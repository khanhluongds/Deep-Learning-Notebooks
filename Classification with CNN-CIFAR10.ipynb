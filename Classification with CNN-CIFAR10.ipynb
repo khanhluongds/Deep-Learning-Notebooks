{
 "cells": [
  {
   "cell_type": "markdown",
   "metadata": {},
   "source": [
    "# Cifar10 dataset classification with CNN\n",
    "This notebook build a CNN model to classify the well-known dataset CIFAR10. \n",
    "This includes the following steps:\n",
    "1. Load nessessary packages and libraries\n",
    "2. Load and investigate dataset\n",
    "3. Process dataset: Normalize the data and apply one-hot-code on train lables and test labels\n",
    "4. Build CNN model\n",
    "5. Fit the built model on training set and evaluate on testing set\n",
    "6. Present the result\n",
    "\n",
    "Referecens: \n",
    "1. https://machinelearningmastery.com/how-to-develop-a-cnn-from-scratch-for-cifar-10-photo-classification/\n",
    "2. https://towardsdatascience.com/covolutional-neural-network-cb0883dd6529#:~:text=When%20we%20talk%20about%20computer,face%20recognition%2C%20image%20classification%20etc.&text=CNN%20also%20have%20learnable%20parameter,i.e%2C%20weights%2C%20biases%20etc.\n",
    "3. https://towardsdatascience.com/a-comprehensive-guide-to-convolutional-neural-networks-the-eli5-way-3bd2b1164a53"
   ]
  },
  {
   "cell_type": "markdown",
   "metadata": {},
   "source": [
    "## 1. Load nessessary packages and libraries"
   ]
  },
  {
   "cell_type": "code",
   "execution_count": 2,
   "metadata": {},
   "outputs": [],
   "source": [
    "import sys\n",
    "import numpy as np\n",
    "import pandas as pd\n",
    "from keras.optimizers import SGD\n",
    "import matplotlib.pyplot as plt\n",
    "from matplotlib import pyplot\n",
    "%matplotlib inline\n",
    "from __future__ import print_function\n",
    "import keras\n",
    "from keras.models import Sequential\n",
    "from keras.utils import to_categorical\n",
    "from keras.layers import Dense, Conv2D, MaxPooling2D, Dropout, Flatten"
   ]
  },
  {
   "cell_type": "markdown",
   "metadata": {},
   "source": [
    "## 2. Load and investigate dataset"
   ]
  },
  {
   "cell_type": "code",
   "execution_count": 4,
   "metadata": {},
   "outputs": [
    {
     "name": "stdout",
     "output_type": "stream",
     "text": [
      "Training data shape :  (50000, 32, 32, 3) (50000, 1)\n",
      "Testing data shape :  (10000, 32, 32, 3) (10000, 1)\n",
      "Total number of outputs :  10\n",
      "Output classes :  [0 1 2 3 4 5 6 7 8 9]\n"
     ]
    },
    {
     "data": {
      "text/plain": [
       "Text(0.5, 1.0, 'Ground Truth : [3]')"
      ]
     },
     "execution_count": 4,
     "metadata": {},
     "output_type": "execute_result"
    },
    {
     "data": {
      "image/png": "[encoded data removed]",
      "text/plain": [
       "<Figure size 288x144 with 2 Axes>"
      ]
     },
     "metadata": {
      "needs_background": "light"
     },
     "output_type": "display_data"
    }
   ],
   "source": [
    "from keras.datasets import cifar10\n",
    "(train_data, train_labels), (test_data, test_labels) = cifar10.load_data()\n",
    "print('Training data shape : ', train_data.shape, train_labels.shape)\n",
    "\n",
    "print('Testing data shape : ', test_data.shape, test_labels.shape)\n",
    "\n",
    "# Find the unique numbers from the train labels\n",
    "classes = np.unique(train_labels)\n",
    "nClasses = len(classes)\n",
    "print('Total number of outputs : ', nClasses)\n",
    "print('Output classes : ', classes)\n",
    "\n",
    "plt.figure(figsize=[4,2])\n",
    "\n",
    "# Display the first image in training data\n",
    "plt.subplot(121)\n",
    "plt.imshow(train_data[0,:,:], cmap='gray')\n",
    "plt.title(\"Ground Truth : {}\".format(train_labels[0]))\n",
    "\n",
    "# Display the first image in testing data\n",
    "plt.subplot(122)\n",
    "plt.imshow(test_data[0,:,:], cmap='gray')\n",
    "plt.title(\"Ground Truth : {}\".format(test_labels[0]))"
   ]
  },
  {
   "cell_type": "markdown",
   "metadata": {},
   "source": [
    "## 3. Process dataset: Normalize the data and apply one-hot-code on train lables and test labels"
   ]
  },
  {
   "cell_type": "code",
   "execution_count": 5,
   "metadata": {},
   "outputs": [],
   "source": [
    "nRows,nCols,nDims = train_images.shape[1:]\n",
    "train_data = train_data.astype('float32')\n",
    "test_data = test_data.astype('float32')\n",
    "train_data /= 255\n",
    "test_data /= 255\n",
    "\n",
    "train_labels_one_hot = to_categorical(train_labels)\n",
    "test_labels_one_hot = to_categorical(test_labels)\n"
   ]
  },
  {
   "cell_type": "markdown",
   "metadata": {},
   "source": [
    "## 4. Build CNN model\n",
    "This CNN model includes two blocks of stacking convolutional layers with small 3×3 filters followed by a max pooling layer. \n",
    "The number of filters in each block is increased with the depth of the network, i.e., 32 in the first block and 64 in the second block. Padding is used on the convolutional layers to ensure the height and width of the output feature is same as the inputs.\n",
    "\n",
    "Dropout is also added to the model to randomly remove nodes in the model. \n",
    "\n",
    "In this case, we will add Dropout layers after each max pooling layer and after the fully connected layer, and use a fixed dropout rate of 20% (e.g. retain 80% of the nodes)."
   ]
  },
  {
   "cell_type": "code",
   "execution_count": 6,
   "metadata": {},
   "outputs": [],
   "source": [
    "def create_model_2VGG():\n",
    "\tmodel = Sequential()\n",
    "\tmodel.add(Conv2D(32, (3, 3), activation='relu', kernel_initializer='he_uniform', padding='same', input_shape=(32, 32, 3)))\n",
    "\tmodel.add(Conv2D(32, (3, 3), activation='relu', kernel_initializer='he_uniform', padding='same'))\n",
    "\tmodel.add(MaxPooling2D((2, 2)))\n",
    "\tmodel.add(Dropout(0.2))\n",
    "\tmodel.add(Conv2D(64, (3, 3), activation='relu', kernel_initializer='he_uniform', padding='same'))\n",
    "\tmodel.add(Conv2D(64, (3, 3), activation='relu', kernel_initializer='he_uniform', padding='same'))\n",
    "\tmodel.add(MaxPooling2D((2, 2)))\n",
    "\tmodel.add(Dropout(0.2))\n",
    "\tmodel.add(Flatten())\n",
    "\tmodel.add(Dense(128, activation='relu', kernel_initializer='he_uniform'))\n",
    "\tmodel.add(Dropout(0.2))\n",
    "\tmodel.add(Dense(10, activation='softmax'))\n",
    "\t# compile model\n",
    "\topt = SGD(lr=0.001, momentum=0.9)\n",
    "\tmodel.compile(optimizer=opt, loss='categorical_crossentropy', metrics=['accuracy'])\n",
    "\treturn model"
   ]
  },
  {
   "cell_type": "markdown",
   "metadata": {},
   "source": [
    "## 5. Fit the built model on training set and evaluate on testing set"
   ]
  },
  {
   "cell_type": "code",
   "execution_count": 9,
   "metadata": {},
   "outputs": [
    {
     "name": "stdout",
     "output_type": "stream",
     "text": [
      "Model: \"sequential_2\"\n",
      "_________________________________________________________________\n",
      "Layer (type)                 Output Shape              Param #   \n",
      "=================================================================\n",
      "conv2d_8 (Conv2D)            (None, 32, 32, 32)        896       \n",
      "_________________________________________________________________\n",
      "conv2d_9 (Conv2D)            (None, 32, 32, 32)        9248      \n",
      "_________________________________________________________________\n",
      "max_pooling2d_4 (MaxPooling2 (None, 16, 16, 32)        0         \n",
      "_________________________________________________________________\n",
      "dropout_6 (Dropout)          (None, 16, 16, 32)        0         \n",
      "_________________________________________________________________\n",
      "conv2d_10 (Conv2D)           (None, 16, 16, 64)        18496     \n",
      "_________________________________________________________________\n",
      "conv2d_11 (Conv2D)           (None, 16, 16, 64)        36928     \n",
      "_________________________________________________________________\n",
      "max_pooling2d_5 (MaxPooling2 (None, 8, 8, 64)          0         \n",
      "_________________________________________________________________\n",
      "dropout_7 (Dropout)          (None, 8, 8, 64)          0         \n",
      "_________________________________________________________________\n",
      "flatten_2 (Flatten)          (None, 4096)              0         \n",
      "_________________________________________________________________\n",
      "dense_4 (Dense)              (None, 128)               524416    \n",
      "_________________________________________________________________\n",
      "dropout_8 (Dropout)          (None, 128)               0         \n",
      "_________________________________________________________________\n",
      "dense_5 (Dense)              (None, 10)                1290      \n",
      "=================================================================\n",
      "Total params: 591,274\n",
      "Trainable params: 591,274\n",
      "Non-trainable params: 0\n",
      "_________________________________________________________________\n",
      "Epoch 1/50\n",
      "196/196 [==============================] - 120s 608ms/step - loss: 2.2925 - accuracy: 0.1555 - val_loss: 1.9658 - val_accuracy: 0.3093\n",
      "Epoch 2/50\n",
      "196/196 [==============================] - 122s 624ms/step - loss: 1.9632 - accuracy: 0.2819 - val_loss: 1.7637 - val_accuracy: 0.3942\n",
      "Epoch 3/50\n",
      "196/196 [==============================] - 119s 606ms/step - loss: 1.8014 - accuracy: 0.3502 - val_loss: 1.6610 - val_accuracy: 0.4028\n",
      "Epoch 4/50\n",
      "196/196 [==============================] - 118s 604ms/step - loss: 1.6903 - accuracy: 0.3856 - val_loss: 1.5401 - val_accuracy: 0.4494\n",
      "Epoch 5/50\n",
      "196/196 [==============================] - 118s 601ms/step - loss: 1.6134 - accuracy: 0.4105 - val_loss: 1.4811 - val_accuracy: 0.4694\n",
      "Epoch 6/50\n",
      "196/196 [==============================] - 115s 587ms/step - loss: 1.5594 - accuracy: 0.4355 - val_loss: 1.4364 - val_accuracy: 0.4893\n",
      "Epoch 7/50\n",
      "196/196 [==============================] - 116s 592ms/step - loss: 1.4927 - accuracy: 0.4573 - val_loss: 1.3890 - val_accuracy: 0.5056\n",
      "Epoch 8/50\n",
      "196/196 [==============================] - 126s 643ms/step - loss: 1.4540 - accuracy: 0.4726 - val_loss: 1.3717 - val_accuracy: 0.5147\n",
      "Epoch 9/50\n",
      "196/196 [==============================] - 124s 631ms/step - loss: 1.4206 - accuracy: 0.4874 - val_loss: 1.3309 - val_accuracy: 0.5286\n",
      "Epoch 10/50\n",
      "196/196 [==============================] - 122s 622ms/step - loss: 1.3963 - accuracy: 0.4957 - val_loss: 1.3291 - val_accuracy: 0.5276\n",
      "Epoch 11/50\n",
      "196/196 [==============================] - 124s 632ms/step - loss: 1.3667 - accuracy: 0.5079 - val_loss: 1.2725 - val_accuracy: 0.5439\n",
      "Epoch 12/50\n",
      "196/196 [==============================] - 122s 622ms/step - loss: 1.3378 - accuracy: 0.5215 - val_loss: 1.2698 - val_accuracy: 0.5457\n",
      "Epoch 13/50\n",
      "196/196 [==============================] - 121s 619ms/step - loss: 1.3181 - accuracy: 0.5273 - val_loss: 1.2489 - val_accuracy: 0.5522\n",
      "Epoch 14/50\n",
      "196/196 [==============================] - 124s 634ms/step - loss: 1.2964 - accuracy: 0.5359 - val_loss: 1.2007 - val_accuracy: 0.5723\n",
      "Epoch 15/50\n",
      "196/196 [==============================] - 125s 636ms/step - loss: 1.2714 - accuracy: 0.5425 - val_loss: 1.1821 - val_accuracy: 0.5823\n",
      "Epoch 16/50\n",
      "196/196 [==============================] - 126s 645ms/step - loss: 1.2492 - accuracy: 0.5564 - val_loss: 1.1739 - val_accuracy: 0.5791\n",
      "Epoch 17/50\n",
      "196/196 [==============================] - 133s 679ms/step - loss: 1.2332 - accuracy: 0.5626 - val_loss: 1.1570 - val_accuracy: 0.5867\n",
      "Epoch 18/50\n",
      "196/196 [==============================] - 136s 695ms/step - loss: 1.2196 - accuracy: 0.5659 - val_loss: 1.1341 - val_accuracy: 0.5947\n",
      "Epoch 19/50\n",
      "196/196 [==============================] - 126s 643ms/step - loss: 1.1963 - accuracy: 0.5732 - val_loss: 1.1153 - val_accuracy: 0.6021\n",
      "Epoch 20/50\n",
      "196/196 [==============================] - 123s 629ms/step - loss: 1.1809 - accuracy: 0.5797 - val_loss: 1.1219 - val_accuracy: 0.5950\n",
      "Epoch 21/50\n",
      "196/196 [==============================] - 122s 624ms/step - loss: 1.1626 - accuracy: 0.5831 - val_loss: 1.0919 - val_accuracy: 0.6160\n",
      "Epoch 22/50\n",
      "196/196 [==============================] - 122s 621ms/step - loss: 1.1505 - accuracy: 0.5917 - val_loss: 1.0555 - val_accuracy: 0.6228\n",
      "Epoch 23/50\n",
      "196/196 [==============================] - 123s 627ms/step - loss: 1.1215 - accuracy: 0.5975 - val_loss: 1.0862 - val_accuracy: 0.6053\n",
      "Epoch 24/50\n",
      "196/196 [==============================] - 118s 601ms/step - loss: 1.1079 - accuracy: 0.6042 - val_loss: 1.0475 - val_accuracy: 0.6242\n",
      "Epoch 25/50\n",
      "196/196 [==============================] - 114s 580ms/step - loss: 1.0965 - accuracy: 0.6065 - val_loss: 1.0644 - val_accuracy: 0.6145\n",
      "Epoch 26/50\n",
      "196/196 [==============================] - 113s 579ms/step - loss: 1.0830 - accuracy: 0.6140 - val_loss: 1.0119 - val_accuracy: 0.6449\n",
      "Epoch 27/50\n",
      "196/196 [==============================] - 114s 580ms/step - loss: 1.0544 - accuracy: 0.6233 - val_loss: 1.0183 - val_accuracy: 0.6329\n",
      "Epoch 28/50\n",
      "196/196 [==============================] - 116s 594ms/step - loss: 1.0412 - accuracy: 0.6317 - val_loss: 1.0164 - val_accuracy: 0.6320\n",
      "Epoch 29/50\n",
      "196/196 [==============================] - 114s 580ms/step - loss: 1.0525 - accuracy: 0.6234 - val_loss: 0.9692 - val_accuracy: 0.6544\n",
      "Epoch 30/50\n",
      "196/196 [==============================] - 113s 576ms/step - loss: 1.0252 - accuracy: 0.6360 - val_loss: 0.9819 - val_accuracy: 0.6450\n",
      "Epoch 31/50\n",
      "196/196 [==============================] - 114s 581ms/step - loss: 1.0136 - accuracy: 0.6405 - val_loss: 0.9688 - val_accuracy: 0.6545\n",
      "Epoch 32/50\n",
      "196/196 [==============================] - 113s 578ms/step - loss: 1.0016 - accuracy: 0.6438 - val_loss: 0.9462 - val_accuracy: 0.6611\n",
      "Epoch 33/50\n",
      "196/196 [==============================] - 114s 583ms/step - loss: 0.9942 - accuracy: 0.6473 - val_loss: 0.9552 - val_accuracy: 0.6613\n",
      "Epoch 34/50\n",
      "196/196 [==============================] - 114s 584ms/step - loss: 0.9825 - accuracy: 0.6481 - val_loss: 0.9479 - val_accuracy: 0.6650\n",
      "Epoch 35/50\n",
      "196/196 [==============================] - 113s 578ms/step - loss: 0.9633 - accuracy: 0.6579 - val_loss: 0.9320 - val_accuracy: 0.6700\n",
      "Epoch 36/50\n",
      "196/196 [==============================] - 113s 578ms/step - loss: 0.9687 - accuracy: 0.6585 - val_loss: 0.9200 - val_accuracy: 0.6733\n",
      "Epoch 37/50\n",
      "196/196 [==============================] - 115s 589ms/step - loss: 0.9404 - accuracy: 0.6661 - val_loss: 0.9157 - val_accuracy: 0.6711\n",
      "Epoch 38/50\n",
      "196/196 [==============================] - 113s 578ms/step - loss: 0.9350 - accuracy: 0.6706 - val_loss: 0.8863 - val_accuracy: 0.6863\n",
      "Epoch 39/50\n",
      "196/196 [==============================] - 113s 578ms/step - loss: 0.9301 - accuracy: 0.6713 - val_loss: 0.8823 - val_accuracy: 0.6876\n",
      "Epoch 40/50\n",
      "196/196 [==============================] - 115s 587ms/step - loss: 0.9192 - accuracy: 0.6779 - val_loss: 0.8803 - val_accuracy: 0.6884\n",
      "Epoch 41/50\n",
      "196/196 [==============================] - 113s 575ms/step - loss: 0.9139 - accuracy: 0.6735 - val_loss: 0.8822 - val_accuracy: 0.6868\n",
      "Epoch 42/50\n",
      "196/196 [==============================] - 113s 575ms/step - loss: 0.9072 - accuracy: 0.6812 - val_loss: 0.8686 - val_accuracy: 0.6952\n",
      "Epoch 43/50\n"
     ]
    },
    {
     "name": "stdout",
     "output_type": "stream",
     "text": [
      "196/196 [==============================] - 114s 580ms/step - loss: 0.9052 - accuracy: 0.6815 - val_loss: 0.8697 - val_accuracy: 0.6914\n",
      "Epoch 44/50\n",
      "196/196 [==============================] - 114s 583ms/step - loss: 0.8849 - accuracy: 0.6874 - val_loss: 0.8654 - val_accuracy: 0.6962\n",
      "Epoch 45/50\n",
      "196/196 [==============================] - 114s 582ms/step - loss: 0.8783 - accuracy: 0.6896 - val_loss: 0.8571 - val_accuracy: 0.6973\n",
      "Epoch 46/50\n",
      "196/196 [==============================] - 113s 576ms/step - loss: 0.8704 - accuracy: 0.6890 - val_loss: 0.8450 - val_accuracy: 0.7011\n",
      "Epoch 47/50\n",
      "196/196 [==============================] - 113s 579ms/step - loss: 0.8598 - accuracy: 0.6949 - val_loss: 0.8558 - val_accuracy: 0.6994\n",
      "Epoch 48/50\n",
      "196/196 [==============================] - 115s 586ms/step - loss: 0.8537 - accuracy: 0.7023 - val_loss: 0.8515 - val_accuracy: 0.6984\n",
      "Epoch 49/50\n",
      "196/196 [==============================] - 113s 575ms/step - loss: 0.8442 - accuracy: 0.7029 - val_loss: 0.8416 - val_accuracy: 0.7040\n",
      "Epoch 50/50\n",
      "196/196 [==============================] - 116s 591ms/step - loss: 0.8281 - accuracy: 0.7039 - val_loss: 0.8413 - val_accuracy: 0.7014\n",
      "313/313 [==============================] - 7s 21ms/step - loss: 0.8413 - accuracy: 0.7014\n",
      "> 70.140\n",
      "This is the result trained on model with 2 VGG blocks\n"
     ]
    }
   ],
   "source": [
    "model = create_model_2VGG()\n",
    "model.summary()\n",
    "batch_size = 256\n",
    "#epochs = 50\n",
    "epochs = 50\n",
    "history = model.fit(train_data, train_labels_one_hot, batch_size=batch_size, epochs=epochs, verbose=1, \n",
    "                   validation_data=(test_data, test_labels_one_hot))\n",
    "_, acc = model.evaluate(test_data, test_labels_one_hot)\n",
    "print('> %.3f' % (acc * 100.0))\n",
    "print('This is the result trained on model with 2 VGG blocks')"
   ]
  },
  {
   "cell_type": "markdown",
   "metadata": {},
   "source": [
    "## 6. Present the result"
   ]
  },
  {
   "cell_type": "code",
   "execution_count": 10,
   "metadata": {},
   "outputs": [
    {
     "data": {
      "text/plain": [
       "<matplotlib.legend.Legend at 0x2136d5d9070>"
      ]
     },
     "execution_count": 10,
     "metadata": {},
     "output_type": "execute_result"
    },
    {
     "data": {
      "image/png": "[encoded data removed]",
      "text/plain": [
       "<Figure size 432x288 with 2 Axes>"
      ]
     },
     "metadata": {
      "needs_background": "light"
     },
     "output_type": "display_data"
    }
   ],
   "source": [
    "pyplot.subplot(211)\n",
    "pyplot.title('Cross Entropy Loss')\n",
    "pyplot.plot(history.history['loss'], color='blue', label='train')\n",
    "pyplot.plot(history.history['val_loss'], color='orange', label='test')\n",
    "pyplot.legend(['Train','Validation'], loc = 'upper left')\n",
    "# plot accuracy\n",
    "pyplot.subplot(212)\n",
    "pyplot.title('Classification Accuracy')\n",
    "pyplot.plot(history.history['accuracy'], color='blue', label='train')\n",
    "pyplot.plot(history.history['val_accuracy'], color='orange', label='test')\n",
    "pyplot.legend(['Train','Validation'], loc = 'upper left')"
   ]
  },
  {
   "cell_type": "code",
   "execution_count": null,
   "metadata": {},
   "outputs": [],
   "source": []
  }
 ],
 "metadata": {
  "kernelspec": {
   "display_name": "Python 3",
   "language": "python",
   "name": "python3"
  },
  "language_info": {
   "codemirror_mode": {
    "name": "ipython",
    "version": 3
   },
   "file_extension": ".py",
   "mimetype": "text/x-python",
   "name": "python",
   "nbconvert_exporter": "python",
   "pygments_lexer": "ipython3",
   "version": "3.8.5"
  }
 },
 "nbformat": 4,
 "nbformat_minor": 4
}
